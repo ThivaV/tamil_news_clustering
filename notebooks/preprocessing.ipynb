{
 "cells": [
  {
   "cell_type": "markdown",
   "metadata": {},
   "source": [
    "# Preprocessing"
   ]
  },
  {
   "cell_type": "code",
   "execution_count": 1,
   "metadata": {},
   "outputs": [],
   "source": [
    "import pandas as pd\n",
    "import uuid"
   ]
  },
  {
   "cell_type": "code",
   "execution_count": 7,
   "metadata": {},
   "outputs": [
    {
     "data": {
      "text/plain": [
       "(                                                news\n",
       " 0  அமைச்சின் பணிகளை முன்னெடுப்பதற்கு கௌர அமைச்சர்...\n",
       " 1  இவ்வமைச்சு இல 40  புத்கமுவ வீதி  இராஜகிரிய எனு...\n",
       " 2  தேசிய மொழிகள் மற்றும் சமூக ஒருமைப்பாட்டு அமைச்...\n",
       " 3  தேசிய மொழிகள்  சமூக ஒருமைப்பாடு தொடர்பான கொள்க...\n",
       " 4  குறித்த தேசிய நோக்கங்களை எய்தும் பொருட்டு தேசி...,\n",
       " 1727888)"
      ]
     },
     "execution_count": 7,
     "metadata": {},
     "output_type": "execute_result"
    }
   ],
   "source": [
    "df = pd.read_csv('../data/news.ta', header=None, names=['news'])\n",
    "df['news'] = df['news'].str.strip()\n",
    "df.head(), len(df)"
   ]
  },
  {
   "cell_type": "code",
   "execution_count": 8,
   "metadata": {},
   "outputs": [
    {
     "data": {
      "text/html": [
       "<div>\n",
       "<style scoped>\n",
       "    .dataframe tbody tr th:only-of-type {\n",
       "        vertical-align: middle;\n",
       "    }\n",
       "\n",
       "    .dataframe tbody tr th {\n",
       "        vertical-align: top;\n",
       "    }\n",
       "\n",
       "    .dataframe thead th {\n",
       "        text-align: right;\n",
       "    }\n",
       "</style>\n",
       "<table border=\"1\" class=\"dataframe\">\n",
       "  <thead>\n",
       "    <tr style=\"text-align: right;\">\n",
       "      <th></th>\n",
       "      <th>news</th>\n",
       "      <th>id</th>\n",
       "    </tr>\n",
       "  </thead>\n",
       "  <tbody>\n",
       "    <tr>\n",
       "      <th>0</th>\n",
       "      <td>அமைச்சின் பணிகளை முன்னெடுப்பதற்கு கௌர அமைச்சர்...</td>\n",
       "      <td>400391ea-acbc-4f51-ba7d-adb4ce6febe7</td>\n",
       "    </tr>\n",
       "    <tr>\n",
       "      <th>1</th>\n",
       "      <td>இவ்வமைச்சு இல 40  புத்கமுவ வீதி  இராஜகிரிய எனு...</td>\n",
       "      <td>6c82e0c3-cccc-416e-a40f-4424fe9ab00b</td>\n",
       "    </tr>\n",
       "    <tr>\n",
       "      <th>2</th>\n",
       "      <td>தேசிய மொழிகள் மற்றும் சமூக ஒருமைப்பாட்டு அமைச்...</td>\n",
       "      <td>c541a4de-4a49-4f44-b29b-b33f00f6cb31</td>\n",
       "    </tr>\n",
       "    <tr>\n",
       "      <th>3</th>\n",
       "      <td>தேசிய மொழிகள்  சமூக ஒருமைப்பாடு தொடர்பான கொள்க...</td>\n",
       "      <td>d9748d3f-e1ae-469d-8ad8-144b64e786cf</td>\n",
       "    </tr>\n",
       "    <tr>\n",
       "      <th>4</th>\n",
       "      <td>குறித்த தேசிய நோக்கங்களை எய்தும் பொருட்டு தேசி...</td>\n",
       "      <td>bc0c22d1-e280-457e-80a1-d085ef09d040</td>\n",
       "    </tr>\n",
       "  </tbody>\n",
       "</table>\n",
       "</div>"
      ],
      "text/plain": [
       "                                                news  \\\n",
       "0  அமைச்சின் பணிகளை முன்னெடுப்பதற்கு கௌர அமைச்சர்...   \n",
       "1  இவ்வமைச்சு இல 40  புத்கமுவ வீதி  இராஜகிரிய எனு...   \n",
       "2  தேசிய மொழிகள் மற்றும் சமூக ஒருமைப்பாட்டு அமைச்...   \n",
       "3  தேசிய மொழிகள்  சமூக ஒருமைப்பாடு தொடர்பான கொள்க...   \n",
       "4  குறித்த தேசிய நோக்கங்களை எய்தும் பொருட்டு தேசி...   \n",
       "\n",
       "                                     id  \n",
       "0  400391ea-acbc-4f51-ba7d-adb4ce6febe7  \n",
       "1  6c82e0c3-cccc-416e-a40f-4424fe9ab00b  \n",
       "2  c541a4de-4a49-4f44-b29b-b33f00f6cb31  \n",
       "3  d9748d3f-e1ae-469d-8ad8-144b64e786cf  \n",
       "4  bc0c22d1-e280-457e-80a1-d085ef09d040  "
      ]
     },
     "execution_count": 8,
     "metadata": {},
     "output_type": "execute_result"
    }
   ],
   "source": [
    "df['id'] = df.apply(lambda _: uuid.uuid4(), axis=1)\n",
    "df.head()"
   ]
  },
  {
   "cell_type": "code",
   "execution_count": 9,
   "metadata": {},
   "outputs": [
    {
     "data": {
      "text/plain": [
       "(0, 15073)"
      ]
     },
     "execution_count": 9,
     "metadata": {},
     "output_type": "execute_result"
    }
   ],
   "source": [
    "df['id'].duplicated().sum(), df['news'].duplicated().sum()"
   ]
  },
  {
   "cell_type": "code",
   "execution_count": null,
   "metadata": {},
   "outputs": [],
   "source": [
    "# df['news'] = df['news'].drop_duplicates(keep='last')\n",
    "# df['news'].duplicated().sum()"
   ]
  },
  {
   "cell_type": "code",
   "execution_count": 10,
   "metadata": {},
   "outputs": [
    {
     "data": {
      "text/html": [
       "<div>\n",
       "<style scoped>\n",
       "    .dataframe tbody tr th:only-of-type {\n",
       "        vertical-align: middle;\n",
       "    }\n",
       "\n",
       "    .dataframe tbody tr th {\n",
       "        vertical-align: top;\n",
       "    }\n",
       "\n",
       "    .dataframe thead th {\n",
       "        text-align: right;\n",
       "    }\n",
       "</style>\n",
       "<table border=\"1\" class=\"dataframe\">\n",
       "  <thead>\n",
       "    <tr style=\"text-align: right;\">\n",
       "      <th></th>\n",
       "      <th>id</th>\n",
       "      <th>news</th>\n",
       "    </tr>\n",
       "  </thead>\n",
       "  <tbody>\n",
       "    <tr>\n",
       "      <th>0</th>\n",
       "      <td>400391ea-acbc-4f51-ba7d-adb4ce6febe7</td>\n",
       "      <td>அமைச்சின் பணிகளை முன்னெடுப்பதற்கு கௌர அமைச்சர்...</td>\n",
       "    </tr>\n",
       "    <tr>\n",
       "      <th>1</th>\n",
       "      <td>6c82e0c3-cccc-416e-a40f-4424fe9ab00b</td>\n",
       "      <td>இவ்வமைச்சு இல 40  புத்கமுவ வீதி  இராஜகிரிய எனு...</td>\n",
       "    </tr>\n",
       "    <tr>\n",
       "      <th>2</th>\n",
       "      <td>c541a4de-4a49-4f44-b29b-b33f00f6cb31</td>\n",
       "      <td>தேசிய மொழிகள் மற்றும் சமூக ஒருமைப்பாட்டு அமைச்...</td>\n",
       "    </tr>\n",
       "    <tr>\n",
       "      <th>3</th>\n",
       "      <td>d9748d3f-e1ae-469d-8ad8-144b64e786cf</td>\n",
       "      <td>தேசிய மொழிகள்  சமூக ஒருமைப்பாடு தொடர்பான கொள்க...</td>\n",
       "    </tr>\n",
       "    <tr>\n",
       "      <th>4</th>\n",
       "      <td>bc0c22d1-e280-457e-80a1-d085ef09d040</td>\n",
       "      <td>குறித்த தேசிய நோக்கங்களை எய்தும் பொருட்டு தேசி...</td>\n",
       "    </tr>\n",
       "  </tbody>\n",
       "</table>\n",
       "</div>"
      ],
      "text/plain": [
       "                                     id  \\\n",
       "0  400391ea-acbc-4f51-ba7d-adb4ce6febe7   \n",
       "1  6c82e0c3-cccc-416e-a40f-4424fe9ab00b   \n",
       "2  c541a4de-4a49-4f44-b29b-b33f00f6cb31   \n",
       "3  d9748d3f-e1ae-469d-8ad8-144b64e786cf   \n",
       "4  bc0c22d1-e280-457e-80a1-d085ef09d040   \n",
       "\n",
       "                                                news  \n",
       "0  அமைச்சின் பணிகளை முன்னெடுப்பதற்கு கௌர அமைச்சர்...  \n",
       "1  இவ்வமைச்சு இல 40  புத்கமுவ வீதி  இராஜகிரிய எனு...  \n",
       "2  தேசிய மொழிகள் மற்றும் சமூக ஒருமைப்பாட்டு அமைச்...  \n",
       "3  தேசிய மொழிகள்  சமூக ஒருமைப்பாடு தொடர்பான கொள்க...  \n",
       "4  குறித்த தேசிய நோக்கங்களை எய்தும் பொருட்டு தேசி...  "
      ]
     },
     "execution_count": 10,
     "metadata": {},
     "output_type": "execute_result"
    }
   ],
   "source": [
    "df = df[['id', 'news']]\n",
    "df.head()"
   ]
  },
  {
   "cell_type": "code",
   "execution_count": 11,
   "metadata": {},
   "outputs": [
    {
     "data": {
      "text/plain": [
       "1727888"
      ]
     },
     "execution_count": 11,
     "metadata": {},
     "output_type": "execute_result"
    }
   ],
   "source": [
    "len(df)"
   ]
  },
  {
   "cell_type": "code",
   "execution_count": null,
   "metadata": {},
   "outputs": [],
   "source": [
    "df.to_csv('../data/news_with_header.csv', index=False, header=True, encoding='utf-8')"
   ]
  },
  {
   "cell_type": "markdown",
   "metadata": {},
   "source": [
    "## Split the data into chunks"
   ]
  },
  {
   "cell_type": "code",
   "execution_count": null,
   "metadata": {},
   "outputs": [],
   "source": [
    "base_uri = '/content/drive/MyDrive/Colab Notebooks/deeplearning_news_clustering/data/'"
   ]
  },
  {
   "cell_type": "code",
   "execution_count": null,
   "metadata": {},
   "outputs": [],
   "source": [
    "dtypes = {\n",
    "    'id': str,\n",
    "    'news': str\n",
    "}\n",
    "\n",
    "data_uri = '{base_uri}news_with_header.csv'.format(base_uri=base_uri)\n",
    "df = pd.read_csv(data_uri, dtype=dtypes)"
   ]
  },
  {
   "cell_type": "code",
   "execution_count": null,
   "metadata": {},
   "outputs": [],
   "source": [
    "for idx, chunk in enumerate(np.array_split(df, 10)):\n",
    "  chunk.to_csv(f'{base_uri}chunks/news_{idx}.csv')"
   ]
  },
  {
   "cell_type": "markdown",
   "metadata": {},
   "source": [
    "## CUDA Check"
   ]
  },
  {
   "cell_type": "code",
   "execution_count": null,
   "metadata": {},
   "outputs": [],
   "source": [
    "import torch"
   ]
  },
  {
   "cell_type": "code",
   "execution_count": null,
   "metadata": {},
   "outputs": [],
   "source": [
    "# If there's a GPU available...\n",
    "if torch.cuda.is_available():\n",
    "\n",
    "  # Tell PyTorch to use the GPU.\n",
    "  device = torch.device(\"cuda\")\n",
    "\n",
    "  print('There are %d GPU(s) available.' % torch.cuda.device_count())\n",
    "  print('We will use the GPU:', torch.cuda.get_device_name(0))\n",
    "else:\n",
    "  # If not...\n",
    "  print('No GPU available, using the CPU instead.')\n",
    "  device = torch.device(\"cpu\")"
   ]
  },
  {
   "cell_type": "code",
   "execution_count": null,
   "metadata": {},
   "outputs": [],
   "source": []
  }
 ],
 "metadata": {
  "kernelspec": {
   "display_name": "Python 3.10.4 ('dl_news_cluster_env')",
   "language": "python",
   "name": "python3"
  },
  "language_info": {
   "codemirror_mode": {
    "name": "ipython",
    "version": 3
   },
   "file_extension": ".py",
   "mimetype": "text/x-python",
   "name": "python",
   "nbconvert_exporter": "python",
   "pygments_lexer": "ipython3",
   "version": "3.9.0"
  },
  "orig_nbformat": 4,
  "vscode": {
   "interpreter": {
    "hash": "5eb6d405646279eea77fdb80917198948e65a23e73fb8254ec48eaa6a0936b49"
   }
  }
 },
 "nbformat": 4,
 "nbformat_minor": 2
}
